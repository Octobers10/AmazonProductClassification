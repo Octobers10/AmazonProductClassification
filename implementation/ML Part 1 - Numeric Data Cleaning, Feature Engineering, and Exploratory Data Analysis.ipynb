{
 "cells": [
  {
   "cell_type": "markdown",
   "metadata": {},
   "source": [
    "# ML Part 1: Numeric Data Cleaning, Feature Engineering, and Exploratory Data Analysis"
   ]
  },
  {
   "cell_type": "code",
   "execution_count": 1,
   "metadata": {},
   "outputs": [],
   "source": [
    "import pandas as pd \n",
    "import numpy as np"
   ]
  },
  {
   "cell_type": "code",
   "execution_count": 2,
   "metadata": {},
   "outputs": [
    {
     "output_type": "execute_result",
     "data": {
      "text/plain": [
       "                            Subcategory  Rank          Scrape Term  \\\n",
       "ASIN                                                                 \n",
       "B0192Y9XSE  DP and MDP Display Adapters     1  displayport adapter   \n",
       "B017Q8ZVWK  DP and MDP Display Adapters     2  displayport adapter   \n",
       "\n",
       "                                                         Link        Brand  \\\n",
       "ASIN                                                                         \n",
       "B0192Y9XSE  https://amazon.com/EAuU3Axj/dp/B0192Y9XSE/ref=...  CableDeconn   \n",
       "B017Q8ZVWK  https://amazon.com/RbKBzVXn/dp/B017Q8ZVWK/ref=...       BENFEI   \n",
       "\n",
       "                    SKU                                              Title  \\\n",
       "ASIN                                                                         \n",
       "B0192Y9XSE      BC75629  CABLEDECONN Multi-Function Displayport Dp to H...   \n",
       "B017Q8ZVWK  000095black  DisplayPort to HDMI, Benfei Gold-Plated DP Dis...   \n",
       "\n",
       "                                                  Description   Price  \\\n",
       "ASIN                                                                    \n",
       "B0192Y9XSE  Connects a DisplayPort DP equipped laptop or d...  $13.99   \n",
       "B017Q8ZVWK  COMPACT DESIGN - The compact-designed portable...   $9.99   \n",
       "\n",
       "                   Verified Subcategory Verified Scrape Term    2019  \n",
       "ASIN                                                                  \n",
       "B0192Y9XSE  DP and MDP Display Adapters  displayport adapter    14.0  \n",
       "B017Q8ZVWK  DP and MDP Display Adapters  hdmi to displayPort  1143.0  "
      ],
      "text/html": "<div>\n<style scoped>\n    .dataframe tbody tr th:only-of-type {\n        vertical-align: middle;\n    }\n\n    .dataframe tbody tr th {\n        vertical-align: top;\n    }\n\n    .dataframe thead th {\n        text-align: right;\n    }\n</style>\n<table border=\"1\" class=\"dataframe\">\n  <thead>\n    <tr style=\"text-align: right;\">\n      <th></th>\n      <th>Subcategory</th>\n      <th>Rank</th>\n      <th>Scrape Term</th>\n      <th>Link</th>\n      <th>Brand</th>\n      <th>SKU</th>\n      <th>Title</th>\n      <th>Description</th>\n      <th>Price</th>\n      <th>Verified Subcategory</th>\n      <th>Verified Scrape Term</th>\n      <th>2019</th>\n    </tr>\n    <tr>\n      <th>ASIN</th>\n      <th></th>\n      <th></th>\n      <th></th>\n      <th></th>\n      <th></th>\n      <th></th>\n      <th></th>\n      <th></th>\n      <th></th>\n      <th></th>\n      <th></th>\n      <th></th>\n    </tr>\n  </thead>\n  <tbody>\n    <tr>\n      <td>B0192Y9XSE</td>\n      <td>DP and MDP Display Adapters</td>\n      <td>1</td>\n      <td>displayport adapter</td>\n      <td>https://amazon.com/EAuU3Axj/dp/B0192Y9XSE/ref=...</td>\n      <td>CableDeconn</td>\n      <td>BC75629</td>\n      <td>CABLEDECONN Multi-Function Displayport Dp to H...</td>\n      <td>Connects a DisplayPort DP equipped laptop or d...</td>\n      <td>$13.99</td>\n      <td>DP and MDP Display Adapters</td>\n      <td>displayport adapter</td>\n      <td>14.0</td>\n    </tr>\n    <tr>\n      <td>B017Q8ZVWK</td>\n      <td>DP and MDP Display Adapters</td>\n      <td>2</td>\n      <td>displayport adapter</td>\n      <td>https://amazon.com/RbKBzVXn/dp/B017Q8ZVWK/ref=...</td>\n      <td>BENFEI</td>\n      <td>000095black</td>\n      <td>DisplayPort to HDMI, Benfei Gold-Plated DP Dis...</td>\n      <td>COMPACT DESIGN - The compact-designed portable...</td>\n      <td>$9.99</td>\n      <td>DP and MDP Display Adapters</td>\n      <td>hdmi to displayPort</td>\n      <td>1143.0</td>\n    </tr>\n  </tbody>\n</table>\n</div>"
     },
     "metadata": {},
     "execution_count": 2
    }
   ],
   "source": [
    "info = pd.read_excel(\"../data/Data.xlsx\", index_col='ASIN')\n",
    "info.head(2)"
   ]
  },
  {
   "cell_type": "code",
   "execution_count": 3,
   "metadata": {
    "tags": []
   },
   "outputs": [
    {
     "output_type": "stream",
     "name": "stdout",
     "text": [
      "<class 'pandas.core.frame.DataFrame'>\nIndex: 1185 entries, B0192Y9XSE to B084WNX1C2\nData columns (total 12 columns):\nSubcategory             1185 non-null object\nRank                    1185 non-null int64\nScrape Term             1185 non-null object\nLink                    1185 non-null object\nBrand                   1182 non-null object\nSKU                     857 non-null object\nTitle                   1182 non-null object\nDescription             1173 non-null object\nPrice                   1100 non-null object\nVerified Subcategory    885 non-null object\nVerified Scrape Term    1184 non-null object\n2019                    885 non-null float64\ndtypes: float64(1), int64(1), object(10)\nmemory usage: 120.4+ KB\n"
     ]
    }
   ],
   "source": [
    "'''A Few Features that we are interested in: Price, Title, Description, Verified Subcategory'''\n",
    "info.info()"
   ]
  },
  {
   "cell_type": "code",
   "execution_count": 4,
   "metadata": {
    "tags": []
   },
   "outputs": [
    {
     "output_type": "stream",
     "name": "stdout",
     "text": [
      "<class 'pandas.core.frame.DataFrame'>\nIndex: 1185 entries, B0192Y9XSE to B084WNX1C2\nData columns (total 6 columns):\nLink                    1185 non-null object\nTitle                   1182 non-null object\nDescription             1173 non-null object\nPrice                   1100 non-null object\nVerified Subcategory    885 non-null object\n2019                    885 non-null float64\ndtypes: float64(1), object(5)\nmemory usage: 64.8+ KB\n"
     ]
    }
   ],
   "source": [
    "'''\n",
    "    First, drop the unimportant features and keep the ones we want.\n",
    "    Note that we keep the link for future data cleaning \n",
    "'''\n",
    "irrelevant = ['Subcategory','Rank', 'Scrape Term', 'Brand', 'SKU', 'Verified Scrape Term']\n",
    "info.drop(irrelevant, axis=1, inplace=True)\n",
    "info.info()"
   ]
  },
  {
   "cell_type": "code",
   "execution_count": 5,
   "metadata": {},
   "outputs": [
    {
     "output_type": "execute_result",
     "data": {
      "text/plain": [
       "                                                         Link  \\\n",
       "ASIN                                                            \n",
       "B0716JB81J  https://amazon.com/ViMP6F36/dp/B0716JB81J/ref=...   \n",
       "B07KRMRJZD  https://amazon.com/0WalbGQE/dp/B07KRMRJZD/ref=...   \n",
       "B07WWLXY7X  https://amazon.com/nmjLaM2x/dp/B07WWLXY7X/ref=...   \n",
       "B06Y5N3YCD  https://amazon.com/bvm4cMk8/dp/B06Y5N3YCD/ref=...   \n",
       "B07X1J7R34  https://amazon.com/UErmGnhV/dp/B07X1J7R34/ref=...   \n",
       "B082KMKQQX  https://amazon.com/v9XFKkBu/dp/B082KMKQQX/ref=...   \n",
       "B079MDQDP4  https://amazon.com/pZi8swG9/dp/B079MDQDP4/ref=...   \n",
       "B07Y652NL2  https://amazon.com/NRlOjUcK/dp/B07Y652NL2/ref=...   \n",
       "B07X7TNRHH  https://amazon.com/pKWfEFdp/dp/B07X7TNRHH/ref=...   \n",
       "B082WT3FL4  https://amazon.com/9F39giuY/dp/B082WT3FL4/ref=...   \n",
       "\n",
       "                                                        Title  \\\n",
       "ASIN                                                            \n",
       "B0716JB81J  gofanco Mini DisplayPort (Thunderbolt 2) Video...   \n",
       "B07KRMRJZD  (Latest Gen) OmniMaster 9 in 1 USB C Hub with ...   \n",
       "B07WWLXY7X  USB C Hub, TOTU Upgraded 12 in 1 Type C Hub to...   \n",
       "B06Y5N3YCD  Cable Matters USB C Multiport Adapter (USB C H...   \n",
       "B07X1J7R34  USB C Hub,Tiergrade 12 in 1 Triple Display Ada...   \n",
       "B082KMKQQX  Lasuney Triple Display USB Type C HUB with to ...   \n",
       "B079MDQDP4                  Dell USB-C Mobile Adapter (DA300)   \n",
       "B07Y652NL2  Updated Version USB C Hub, YEMO 12 in 1 Type C...   \n",
       "B07X7TNRHH  USB-C Hub 9-in-1 Adapter with 4K HDMI, Mini DP...   \n",
       "B082WT3FL4  USB C Hub, USB C Docking Station, QGeeM 12 in ...   \n",
       "\n",
       "                                                  Description   Price  \\\n",
       "ASIN                                                                    \n",
       "B0716JB81J  ✔ Convert your system’s Mini DisplayPort outpu...  $52.99   \n",
       "B07KRMRJZD  PLUG AND PLAY: This 9-in-1 USB C Hub includes ...  $59.99   \n",
       "B07WWLXY7X  Massive Docking Station: Please make sure that...  $79.99   \n",
       "B06Y5N3YCD  Display Port USBC dock adds Ethernet, USB, Dis...  $40.99   \n",
       "B07X1J7R34  [12-in-1 USB C Hub] - Tiergrade plug-and-play ...  $81.99   \n",
       "B082KMKQQX  [NOTE] The Mac OS itself does not support spli...  $59.99   \n",
       "B079MDQDP4  Connect to 4K displays at 60Hz via DP or HDMI ...  $66.52   \n",
       "B07Y652NL2  ✔️ All-You-Need 12-in-1 Professional USB-C Hub...  $65.99   \n",
       "B07X7TNRHH  ✅【9 in 1 USB-C Hub】: USB C port to 9 practical...  $39.99   \n",
       "B082WT3FL4  【12in1 Super Expansion USB-C Hub 】All Expansio...  $79.99   \n",
       "\n",
       "           Verified Subcategory  2019  \n",
       "ASIN                                   \n",
       "B0716JB81J                  NaN   NaN  \n",
       "B07KRMRJZD                  NaN   NaN  \n",
       "B07WWLXY7X                  NaN   NaN  \n",
       "B06Y5N3YCD                  NaN   NaN  \n",
       "B07X1J7R34                  NaN   NaN  \n",
       "B082KMKQQX                  NaN   NaN  \n",
       "B079MDQDP4                  NaN   NaN  \n",
       "B07Y652NL2                  NaN   NaN  \n",
       "B07X7TNRHH                  NaN   NaN  \n",
       "B082WT3FL4                  NaN   NaN  "
      ],
      "text/html": "<div>\n<style scoped>\n    .dataframe tbody tr th:only-of-type {\n        vertical-align: middle;\n    }\n\n    .dataframe tbody tr th {\n        vertical-align: top;\n    }\n\n    .dataframe thead th {\n        text-align: right;\n    }\n</style>\n<table border=\"1\" class=\"dataframe\">\n  <thead>\n    <tr style=\"text-align: right;\">\n      <th></th>\n      <th>Link</th>\n      <th>Title</th>\n      <th>Description</th>\n      <th>Price</th>\n      <th>Verified Subcategory</th>\n      <th>2019</th>\n    </tr>\n    <tr>\n      <th>ASIN</th>\n      <th></th>\n      <th></th>\n      <th></th>\n      <th></th>\n      <th></th>\n      <th></th>\n    </tr>\n  </thead>\n  <tbody>\n    <tr>\n      <td>B0716JB81J</td>\n      <td>https://amazon.com/ViMP6F36/dp/B0716JB81J/ref=...</td>\n      <td>gofanco Mini DisplayPort (Thunderbolt 2) Video...</td>\n      <td>✔ Convert your system’s Mini DisplayPort outpu...</td>\n      <td>$52.99</td>\n      <td>NaN</td>\n      <td>NaN</td>\n    </tr>\n    <tr>\n      <td>B07KRMRJZD</td>\n      <td>https://amazon.com/0WalbGQE/dp/B07KRMRJZD/ref=...</td>\n      <td>(Latest Gen) OmniMaster 9 in 1 USB C Hub with ...</td>\n      <td>PLUG AND PLAY: This 9-in-1 USB C Hub includes ...</td>\n      <td>$59.99</td>\n      <td>NaN</td>\n      <td>NaN</td>\n    </tr>\n    <tr>\n      <td>B07WWLXY7X</td>\n      <td>https://amazon.com/nmjLaM2x/dp/B07WWLXY7X/ref=...</td>\n      <td>USB C Hub, TOTU Upgraded 12 in 1 Type C Hub to...</td>\n      <td>Massive Docking Station: Please make sure that...</td>\n      <td>$79.99</td>\n      <td>NaN</td>\n      <td>NaN</td>\n    </tr>\n    <tr>\n      <td>B06Y5N3YCD</td>\n      <td>https://amazon.com/bvm4cMk8/dp/B06Y5N3YCD/ref=...</td>\n      <td>Cable Matters USB C Multiport Adapter (USB C H...</td>\n      <td>Display Port USBC dock adds Ethernet, USB, Dis...</td>\n      <td>$40.99</td>\n      <td>NaN</td>\n      <td>NaN</td>\n    </tr>\n    <tr>\n      <td>B07X1J7R34</td>\n      <td>https://amazon.com/UErmGnhV/dp/B07X1J7R34/ref=...</td>\n      <td>USB C Hub,Tiergrade 12 in 1 Triple Display Ada...</td>\n      <td>[12-in-1 USB C Hub] - Tiergrade plug-and-play ...</td>\n      <td>$81.99</td>\n      <td>NaN</td>\n      <td>NaN</td>\n    </tr>\n    <tr>\n      <td>B082KMKQQX</td>\n      <td>https://amazon.com/v9XFKkBu/dp/B082KMKQQX/ref=...</td>\n      <td>Lasuney Triple Display USB Type C HUB with to ...</td>\n      <td>[NOTE] The Mac OS itself does not support spli...</td>\n      <td>$59.99</td>\n      <td>NaN</td>\n      <td>NaN</td>\n    </tr>\n    <tr>\n      <td>B079MDQDP4</td>\n      <td>https://amazon.com/pZi8swG9/dp/B079MDQDP4/ref=...</td>\n      <td>Dell USB-C Mobile Adapter (DA300)</td>\n      <td>Connect to 4K displays at 60Hz via DP or HDMI ...</td>\n      <td>$66.52</td>\n      <td>NaN</td>\n      <td>NaN</td>\n    </tr>\n    <tr>\n      <td>B07Y652NL2</td>\n      <td>https://amazon.com/NRlOjUcK/dp/B07Y652NL2/ref=...</td>\n      <td>Updated Version USB C Hub, YEMO 12 in 1 Type C...</td>\n      <td>✔️ All-You-Need 12-in-1 Professional USB-C Hub...</td>\n      <td>$65.99</td>\n      <td>NaN</td>\n      <td>NaN</td>\n    </tr>\n    <tr>\n      <td>B07X7TNRHH</td>\n      <td>https://amazon.com/pKWfEFdp/dp/B07X7TNRHH/ref=...</td>\n      <td>USB-C Hub 9-in-1 Adapter with 4K HDMI, Mini DP...</td>\n      <td>✅【9 in 1 USB-C Hub】: USB C port to 9 practical...</td>\n      <td>$39.99</td>\n      <td>NaN</td>\n      <td>NaN</td>\n    </tr>\n    <tr>\n      <td>B082WT3FL4</td>\n      <td>https://amazon.com/9F39giuY/dp/B082WT3FL4/ref=...</td>\n      <td>USB C Hub, USB C Docking Station, QGeeM 12 in ...</td>\n      <td>【12in1 Super Expansion USB-C Hub 】All Expansio...</td>\n      <td>$79.99</td>\n      <td>NaN</td>\n      <td>NaN</td>\n    </tr>\n  </tbody>\n</table>\n</div>"
     },
     "metadata": {},
     "execution_count": 5
    }
   ],
   "source": [
    "'''\n",
    "    Verified Subcategory has only 885 non-null object (300 missing), which is significant. We need to figure out why. \n",
    "'''\n",
    "info[pd.isnull(info[\"Verified Subcategory\"])].head(10)"
   ]
  },
  {
   "cell_type": "code",
   "execution_count": 6,
   "metadata": {
    "tags": []
   },
   "outputs": [
    {
     "output_type": "stream",
     "name": "stdout",
     "text": [
      "<class 'pandas.core.frame.DataFrame'>\nIndex: 1185 entries, B0192Y9XSE to B084WNX1C2\nData columns (total 6 columns):\nLink                    1185 non-null object\nTitle                   1182 non-null object\nDescription             1173 non-null object\nPrice                   1100 non-null object\nVerified Subcategory    1185 non-null object\n2019                    885 non-null float64\ndtypes: float64(1), object(5)\nmemory usage: 64.8+ KB\n"
     ]
    }
   ],
   "source": [
    "'''\n",
    "    From this step we can find out that NaN is not a missing value; \n",
    "    Any ASIN with NaN in \"Verified Subcategory\" just simply because they don't fit in any desired categories.\n",
    "    Thus we want to keep these ASINs.\n",
    "'''\n",
    "info['Verified Subcategory'].fillna('None', inplace=True) \n",
    "info.info()"
   ]
  },
  {
   "cell_type": "code",
   "execution_count": 7,
   "metadata": {},
   "outputs": [
    {
     "output_type": "execute_result",
     "data": {
      "text/plain": [
       "                                                         Link  \\\n",
       "ASIN                                                            \n",
       "B076DTRZ58  https://amazon.com/BHZFQKpj/dp/B076DTRZ58/ref=...   \n",
       "B01J3BQ88Y  https://amazon.com/Xr93aRCl/dp/B01J3BQ88Y/ref=...   \n",
       "B083L6NN24  https://amazon.com/QOq4ET22/dp/B083L6NN24/ref=...   \n",
       "B01GUSJR54  https://amazon.com/aI4J2olC/dp/B01GUSJR54/ref=...   \n",
       "B003VREWT4  https://amazon.com/hMq0GInL/dp/B003VREWT4/ref=...   \n",
       "B071P93NR4  https://amazon.com/fRqCzbum/dp/B071P93NR4/ref=...   \n",
       "B009ENYJPG  https://amazon.com/UPnDNCQr/dp/B009ENYJPG/ref=...   \n",
       "B07V5R74NB  https://amazon.com/usXRyR4X/dp/B07V5R74NB/ref=...   \n",
       "B083Q1PB8F  https://amazon.com/9FkDNKoQ/dp/B083Q1PB8F/ref=...   \n",
       "B009WHV3BM  https://amazon.com/cM2wIZKw/dp/B009WHV3BM/ref=...   \n",
       "B07FKMFHV2  https://amazon.com/wXptIFLt/dp/B07FKMFHV2/ref=...   \n",
       "B073J79QWF  https://amazon.com/2LRvwsdx/dp/B073J79QWF/ref=...   \n",
       "\n",
       "                                                        Title Description  \\\n",
       "ASIN                                                                        \n",
       "B076DTRZ58  Mini DisplayPort to HDMI DVI DP 4K VGA Adapter...         NaN   \n",
       "B01J3BQ88Y  ICZI Mini DisplayPort Male (Thunderbolt Port C...         NaN   \n",
       "B083L6NN24  Mini DisplayPort to HDMI Adapter, Newsoul Mini...         NaN   \n",
       "B01GUSJR54  Thunderbolt to VGA, ICZI Video Pioneer Mini Di...         NaN   \n",
       "B003VREWT4                                                NaN         NaN   \n",
       "B071P93NR4  DisplayPort to VGA Cable 10 feet, UVOOI Gold P...         NaN   \n",
       "B009ENYJPG  uxcell a12071300ux0259 Female Splitter Adapter...         NaN   \n",
       "B07V5R74NB  CFIKTE HDMI to VGA HD Cable HDMI to VGA Cable ...         NaN   \n",
       "B083Q1PB8F  AE HDMI to VGA, Gold-Plated HDMI to VGA Adapte...         NaN   \n",
       "B009WHV3BM                                                NaN         NaN   \n",
       "B07FKMFHV2                                                NaN         NaN   \n",
       "B073J79QWF  USB 3.1 Type C to HDMI Adapter, Topoint USB-C ...         NaN   \n",
       "\n",
       "             Price         Verified Subcategory  2019  \n",
       "ASIN                                                   \n",
       "B076DTRZ58  $20.99  DP and MDP Display Adapters  47.0  \n",
       "B01J3BQ88Y   $7.49  DP and MDP Display Adapters   0.0  \n",
       "B083L6NN24   $9.99  DP and MDP Display Adapters   0.0  \n",
       "B01GUSJR54   $6.63  DP and MDP Display Adapters   0.0  \n",
       "B003VREWT4     NaN                         None   NaN  \n",
       "B071P93NR4   $9.99  DP and MDP Display Adapters   0.0  \n",
       "B009ENYJPG   $6.99        HDMI and DVI Adapters   4.0  \n",
       "B07V5R74NB     NaN        HDMI and DVI Adapters  26.0  \n",
       "B083Q1PB8F   $8.85        HDMI and DVI Adapters   0.0  \n",
       "B009WHV3BM     NaN                         None   NaN  \n",
       "B07FKMFHV2     NaN                         None   NaN  \n",
       "B073J79QWF  $27.99                         None   NaN  "
      ],
      "text/html": "<div>\n<style scoped>\n    .dataframe tbody tr th:only-of-type {\n        vertical-align: middle;\n    }\n\n    .dataframe tbody tr th {\n        vertical-align: top;\n    }\n\n    .dataframe thead th {\n        text-align: right;\n    }\n</style>\n<table border=\"1\" class=\"dataframe\">\n  <thead>\n    <tr style=\"text-align: right;\">\n      <th></th>\n      <th>Link</th>\n      <th>Title</th>\n      <th>Description</th>\n      <th>Price</th>\n      <th>Verified Subcategory</th>\n      <th>2019</th>\n    </tr>\n    <tr>\n      <th>ASIN</th>\n      <th></th>\n      <th></th>\n      <th></th>\n      <th></th>\n      <th></th>\n      <th></th>\n    </tr>\n  </thead>\n  <tbody>\n    <tr>\n      <td>B076DTRZ58</td>\n      <td>https://amazon.com/BHZFQKpj/dp/B076DTRZ58/ref=...</td>\n      <td>Mini DisplayPort to HDMI DVI DP 4K VGA Adapter...</td>\n      <td>NaN</td>\n      <td>$20.99</td>\n      <td>DP and MDP Display Adapters</td>\n      <td>47.0</td>\n    </tr>\n    <tr>\n      <td>B01J3BQ88Y</td>\n      <td>https://amazon.com/Xr93aRCl/dp/B01J3BQ88Y/ref=...</td>\n      <td>ICZI Mini DisplayPort Male (Thunderbolt Port C...</td>\n      <td>NaN</td>\n      <td>$7.49</td>\n      <td>DP and MDP Display Adapters</td>\n      <td>0.0</td>\n    </tr>\n    <tr>\n      <td>B083L6NN24</td>\n      <td>https://amazon.com/QOq4ET22/dp/B083L6NN24/ref=...</td>\n      <td>Mini DisplayPort to HDMI Adapter, Newsoul Mini...</td>\n      <td>NaN</td>\n      <td>$9.99</td>\n      <td>DP and MDP Display Adapters</td>\n      <td>0.0</td>\n    </tr>\n    <tr>\n      <td>B01GUSJR54</td>\n      <td>https://amazon.com/aI4J2olC/dp/B01GUSJR54/ref=...</td>\n      <td>Thunderbolt to VGA, ICZI Video Pioneer Mini Di...</td>\n      <td>NaN</td>\n      <td>$6.63</td>\n      <td>DP and MDP Display Adapters</td>\n      <td>0.0</td>\n    </tr>\n    <tr>\n      <td>B003VREWT4</td>\n      <td>https://amazon.com/hMq0GInL/dp/B003VREWT4/ref=...</td>\n      <td>NaN</td>\n      <td>NaN</td>\n      <td>NaN</td>\n      <td>None</td>\n      <td>NaN</td>\n    </tr>\n    <tr>\n      <td>B071P93NR4</td>\n      <td>https://amazon.com/fRqCzbum/dp/B071P93NR4/ref=...</td>\n      <td>DisplayPort to VGA Cable 10 feet, UVOOI Gold P...</td>\n      <td>NaN</td>\n      <td>$9.99</td>\n      <td>DP and MDP Display Adapters</td>\n      <td>0.0</td>\n    </tr>\n    <tr>\n      <td>B009ENYJPG</td>\n      <td>https://amazon.com/UPnDNCQr/dp/B009ENYJPG/ref=...</td>\n      <td>uxcell a12071300ux0259 Female Splitter Adapter...</td>\n      <td>NaN</td>\n      <td>$6.99</td>\n      <td>HDMI and DVI Adapters</td>\n      <td>4.0</td>\n    </tr>\n    <tr>\n      <td>B07V5R74NB</td>\n      <td>https://amazon.com/usXRyR4X/dp/B07V5R74NB/ref=...</td>\n      <td>CFIKTE HDMI to VGA HD Cable HDMI to VGA Cable ...</td>\n      <td>NaN</td>\n      <td>NaN</td>\n      <td>HDMI and DVI Adapters</td>\n      <td>26.0</td>\n    </tr>\n    <tr>\n      <td>B083Q1PB8F</td>\n      <td>https://amazon.com/9FkDNKoQ/dp/B083Q1PB8F/ref=...</td>\n      <td>AE HDMI to VGA, Gold-Plated HDMI to VGA Adapte...</td>\n      <td>NaN</td>\n      <td>$8.85</td>\n      <td>HDMI and DVI Adapters</td>\n      <td>0.0</td>\n    </tr>\n    <tr>\n      <td>B009WHV3BM</td>\n      <td>https://amazon.com/cM2wIZKw/dp/B009WHV3BM/ref=...</td>\n      <td>NaN</td>\n      <td>NaN</td>\n      <td>NaN</td>\n      <td>None</td>\n      <td>NaN</td>\n    </tr>\n    <tr>\n      <td>B07FKMFHV2</td>\n      <td>https://amazon.com/wXptIFLt/dp/B07FKMFHV2/ref=...</td>\n      <td>NaN</td>\n      <td>NaN</td>\n      <td>NaN</td>\n      <td>None</td>\n      <td>NaN</td>\n    </tr>\n    <tr>\n      <td>B073J79QWF</td>\n      <td>https://amazon.com/2LRvwsdx/dp/B073J79QWF/ref=...</td>\n      <td>USB 3.1 Type C to HDMI Adapter, Topoint USB-C ...</td>\n      <td>NaN</td>\n      <td>$27.99</td>\n      <td>None</td>\n      <td>NaN</td>\n    </tr>\n  </tbody>\n</table>\n</div>"
     },
     "metadata": {},
     "execution_count": 7
    }
   ],
   "source": [
    "'''\n",
    "    There are also some missing value for Description. \n",
    "    We need to examinate that.\n",
    "'''\n",
    "info[pd.isnull(info[\"Description\"])]"
   ]
  },
  {
   "cell_type": "code",
   "execution_count": 8,
   "metadata": {
    "tags": []
   },
   "outputs": [
    {
     "output_type": "stream",
     "name": "stdout",
     "text": [
      "<class 'pandas.core.frame.DataFrame'>\nIndex: 1185 entries, B0192Y9XSE to B084WNX1C2\nData columns (total 6 columns):\nLink                    1185 non-null object\nTitle                   1182 non-null object\nDescription             1182 non-null object\nPrice                   1100 non-null object\nVerified Subcategory    1185 non-null object\n2019                    885 non-null float64\ndtypes: float64(1), object(5)\nmemory usage: 64.8+ KB\n"
     ]
    }
   ],
   "source": [
    "'''\n",
    "    By checking these links, we find out that these products do not have descriptions. \n",
    "    Thus we am going to use the title instead of description for these ASINs.\n",
    "'''\n",
    "\n",
    "info[\"Description\"] = info.apply(\n",
    "    lambda row: row['Title'] if pd.isnull(row['Description'])else row['Description'],\n",
    "    axis=1\n",
    ")\n",
    "\n",
    "info.info()"
   ]
  },
  {
   "cell_type": "code",
   "execution_count": 9,
   "metadata": {},
   "outputs": [
    {
     "output_type": "execute_result",
     "data": {
      "text/plain": [
       "                                                         Link  \\\n",
       "ASIN                                                            \n",
       "B00S0C7QO8  https://amazon.com/zYPh8ByX/dp/B00S0C7QO8/ref=...   \n",
       "B083JTJHH4  https://amazon.com/Ht0SLkU2/dp/B083JTJHH4/ref=...   \n",
       "B06XNQTMXW  https://amazon.com/9ZQd2vFJ/dp/B06XNQTMXW/ref=...   \n",
       "B085NWVZ1K  https://amazon.com/1OzgLvc4/dp/B085NWVZ1K/ref=...   \n",
       "B01699044M  https://amazon.com/S2wfgLp2/dp/B01699044M/ref=...   \n",
       "...                                                       ...   \n",
       "B07QKBV6TP  https://amazon.com/TfMMFnv1/dp/B07QKBV6TP/ref=...   \n",
       "B07TV2M75H  https://amazon.com/1LWLJ05o/dp/B07TV2M75H/ref=...   \n",
       "B08628BXW7  https://amazon.com/dxLgdn75/dp/B08628BXW7/ref=...   \n",
       "B00ZR1AETE  https://amazon.com/nz84RQno/dp/B00ZR1AETE/ref=...   \n",
       "B076KRHJ79  https://amazon.com/BPjL70vW/dp/B076KRHJ79/ref=...   \n",
       "\n",
       "                                                        Title  \\\n",
       "ASIN                                                            \n",
       "B00S0C7QO8  Plugable Active DisplayPort to HDMI Adapter - ...   \n",
       "B083JTJHH4  DisplayPort to HDMI, Answin 4K DisplayPort to ...   \n",
       "B06XNQTMXW  Display Port(DP) Male to VGA Female Adapter Cable   \n",
       "B085NWVZ1K  Display Port to VGA,3 Pack, Linkhood Gold-Plat...   \n",
       "B01699044M                      Microsoft Surface VGA Adapter   \n",
       "...                                                       ...   \n",
       "B07QKBV6TP  Doitby USB C to HDMI Cable Type C to HDMI Adap...   \n",
       "B07TV2M75H  RCA USB C to HDMI VGA Adapter, USB Type-C Hub ...   \n",
       "B08628BXW7  Aluminium USB C Type C to VGA Adapter Cable Ro...   \n",
       "B00ZR1AETE  StarTech.com USB-C to VGA Adapter - Black - 10...   \n",
       "B076KRHJ79             Microsoft Surface USB-C to VGA Adapter   \n",
       "\n",
       "                                                  Description Price  \\\n",
       "ASIN                                                                  \n",
       "B00S0C7QO8  Active adapter enables you to connect a Displa...   NaN   \n",
       "B083JTJHH4  【Rugged Series】Durable, nylon-braided construc...   NaN   \n",
       "B06XNQTMXW  Support display port V1.2 and display port 20p...   NaN   \n",
       "B085NWVZ1K  Applications: Connect Notebook / Desktop with ...   NaN   \n",
       "B01699044M  1 x DisplayPort 1.2 Male Connector\\n1 x VGA Fe...   NaN   \n",
       "...                                                       ...   ...   \n",
       "B07QKBV6TP  [Plug-and-Play Device] Doitby usb c to hdmi ca...   NaN   \n",
       "B07TV2M75H  Hdmi & VGA output: This USB C to HDMI and VGA ...   NaN   \n",
       "B08628BXW7  Reversible, symmetrical USB-C connector\\nAdapt...   NaN   \n",
       "B00ZR1AETE  CRYSTAL-CLEAR PICTURE: When connecting a USB-C...   NaN   \n",
       "B076KRHJ79  Compatible with surface Book 2\\nProprietary VG...   NaN   \n",
       "\n",
       "                   Verified Subcategory  2019  \n",
       "ASIN                                           \n",
       "B00S0C7QO8  DP and MDP Display Adapters  71.0  \n",
       "B083JTJHH4  DP and MDP Display Adapters   0.0  \n",
       "B06XNQTMXW  DP and MDP Display Adapters   1.0  \n",
       "B085NWVZ1K  DP and MDP Display Adapters   0.0  \n",
       "B01699044M  DP and MDP Display Adapters  16.0  \n",
       "...                                 ...   ...  \n",
       "B07QKBV6TP       USB-C Display Adapters  15.0  \n",
       "B07TV2M75H       USB-C Display Adapters  17.0  \n",
       "B08628BXW7       USB-C Display Adapters   0.0  \n",
       "B00ZR1AETE       USB-C Display Adapters   3.0  \n",
       "B076KRHJ79       USB-C Display Adapters   3.0  \n",
       "\n",
       "[85 rows x 6 columns]"
      ],
      "text/html": "<div>\n<style scoped>\n    .dataframe tbody tr th:only-of-type {\n        vertical-align: middle;\n    }\n\n    .dataframe tbody tr th {\n        vertical-align: top;\n    }\n\n    .dataframe thead th {\n        text-align: right;\n    }\n</style>\n<table border=\"1\" class=\"dataframe\">\n  <thead>\n    <tr style=\"text-align: right;\">\n      <th></th>\n      <th>Link</th>\n      <th>Title</th>\n      <th>Description</th>\n      <th>Price</th>\n      <th>Verified Subcategory</th>\n      <th>2019</th>\n    </tr>\n    <tr>\n      <th>ASIN</th>\n      <th></th>\n      <th></th>\n      <th></th>\n      <th></th>\n      <th></th>\n      <th></th>\n    </tr>\n  </thead>\n  <tbody>\n    <tr>\n      <td>B00S0C7QO8</td>\n      <td>https://amazon.com/zYPh8ByX/dp/B00S0C7QO8/ref=...</td>\n      <td>Plugable Active DisplayPort to HDMI Adapter - ...</td>\n      <td>Active adapter enables you to connect a Displa...</td>\n      <td>NaN</td>\n      <td>DP and MDP Display Adapters</td>\n      <td>71.0</td>\n    </tr>\n    <tr>\n      <td>B083JTJHH4</td>\n      <td>https://amazon.com/Ht0SLkU2/dp/B083JTJHH4/ref=...</td>\n      <td>DisplayPort to HDMI, Answin 4K DisplayPort to ...</td>\n      <td>【Rugged Series】Durable, nylon-braided construc...</td>\n      <td>NaN</td>\n      <td>DP and MDP Display Adapters</td>\n      <td>0.0</td>\n    </tr>\n    <tr>\n      <td>B06XNQTMXW</td>\n      <td>https://amazon.com/9ZQd2vFJ/dp/B06XNQTMXW/ref=...</td>\n      <td>Display Port(DP) Male to VGA Female Adapter Cable</td>\n      <td>Support display port V1.2 and display port 20p...</td>\n      <td>NaN</td>\n      <td>DP and MDP Display Adapters</td>\n      <td>1.0</td>\n    </tr>\n    <tr>\n      <td>B085NWVZ1K</td>\n      <td>https://amazon.com/1OzgLvc4/dp/B085NWVZ1K/ref=...</td>\n      <td>Display Port to VGA,3 Pack, Linkhood Gold-Plat...</td>\n      <td>Applications: Connect Notebook / Desktop with ...</td>\n      <td>NaN</td>\n      <td>DP and MDP Display Adapters</td>\n      <td>0.0</td>\n    </tr>\n    <tr>\n      <td>B01699044M</td>\n      <td>https://amazon.com/S2wfgLp2/dp/B01699044M/ref=...</td>\n      <td>Microsoft Surface VGA Adapter</td>\n      <td>1 x DisplayPort 1.2 Male Connector\\n1 x VGA Fe...</td>\n      <td>NaN</td>\n      <td>DP and MDP Display Adapters</td>\n      <td>16.0</td>\n    </tr>\n    <tr>\n      <td>...</td>\n      <td>...</td>\n      <td>...</td>\n      <td>...</td>\n      <td>...</td>\n      <td>...</td>\n      <td>...</td>\n    </tr>\n    <tr>\n      <td>B07QKBV6TP</td>\n      <td>https://amazon.com/TfMMFnv1/dp/B07QKBV6TP/ref=...</td>\n      <td>Doitby USB C to HDMI Cable Type C to HDMI Adap...</td>\n      <td>[Plug-and-Play Device] Doitby usb c to hdmi ca...</td>\n      <td>NaN</td>\n      <td>USB-C Display Adapters</td>\n      <td>15.0</td>\n    </tr>\n    <tr>\n      <td>B07TV2M75H</td>\n      <td>https://amazon.com/1LWLJ05o/dp/B07TV2M75H/ref=...</td>\n      <td>RCA USB C to HDMI VGA Adapter, USB Type-C Hub ...</td>\n      <td>Hdmi &amp; VGA output: This USB C to HDMI and VGA ...</td>\n      <td>NaN</td>\n      <td>USB-C Display Adapters</td>\n      <td>17.0</td>\n    </tr>\n    <tr>\n      <td>B08628BXW7</td>\n      <td>https://amazon.com/dxLgdn75/dp/B08628BXW7/ref=...</td>\n      <td>Aluminium USB C Type C to VGA Adapter Cable Ro...</td>\n      <td>Reversible, symmetrical USB-C connector\\nAdapt...</td>\n      <td>NaN</td>\n      <td>USB-C Display Adapters</td>\n      <td>0.0</td>\n    </tr>\n    <tr>\n      <td>B00ZR1AETE</td>\n      <td>https://amazon.com/nz84RQno/dp/B00ZR1AETE/ref=...</td>\n      <td>StarTech.com USB-C to VGA Adapter - Black - 10...</td>\n      <td>CRYSTAL-CLEAR PICTURE: When connecting a USB-C...</td>\n      <td>NaN</td>\n      <td>USB-C Display Adapters</td>\n      <td>3.0</td>\n    </tr>\n    <tr>\n      <td>B076KRHJ79</td>\n      <td>https://amazon.com/BPjL70vW/dp/B076KRHJ79/ref=...</td>\n      <td>Microsoft Surface USB-C to VGA Adapter</td>\n      <td>Compatible with surface Book 2\\nProprietary VG...</td>\n      <td>NaN</td>\n      <td>USB-C Display Adapters</td>\n      <td>3.0</td>\n    </tr>\n  </tbody>\n</table>\n<p>85 rows × 6 columns</p>\n</div>"
     },
     "metadata": {},
     "execution_count": 9
    }
   ],
   "source": [
    "'''\n",
    "    We finally take a look at the missing data in Price column\n",
    "'''\n",
    "info[pd.isnull(info[\"Price\"])]"
   ]
  },
  {
   "cell_type": "code",
   "execution_count": 10,
   "metadata": {},
   "outputs": [
    {
     "output_type": "execute_result",
     "data": {
      "text/plain": [
       "'\\n    We realized that these ASINs are only available through resellers. Thus these data are missing at random. \\n    We have two options: 1. drop missing rows 2. fill these NaN \\n    We will use the second approach: filling these NaN by group mean\\n    Also this suggests that there are possible improvements can be made during data collection step \\n'"
      ]
     },
     "metadata": {},
     "execution_count": 10
    }
   ],
   "source": [
    "'''\n",
    "    We realized that these ASINs are only available through resellers. Thus these data are missing at random. \n",
    "    We have two options: 1. drop missing rows 2. fill these NaN \n",
    "    We will use the second approach: filling these NaN by group mean\n",
    "    Also this suggests that there are possible improvements can be made during data collection step \n",
    "'''\n"
   ]
  },
  {
   "cell_type": "code",
   "execution_count": 11,
   "metadata": {},
   "outputs": [
    {
     "output_type": "execute_result",
     "data": {
      "text/plain": [
       "ASIN\n",
       "B0192Y9XSE    13.99\n",
       "B017Q8ZVWK     9.99\n",
       "B014RWWURC    12.00\n",
       "B07YDNSGY2    17.99\n",
       "B00Z08TZNU     8.99\n",
       "Name: Price, dtype: float64"
      ]
     },
     "metadata": {},
     "execution_count": 11
    }
   ],
   "source": [
    "'''\n",
    "    First we need to transform Price Data into numeric type\n",
    "'''\n",
    "\n",
    "import re\n",
    "def find_float(a_string):\n",
    "    if isinstance(a_string, str):\n",
    "        pattern = r\"\\d*\\.\\d*\"\n",
    "        number = re.search(pattern, a_string)\n",
    "        if number: return float(number.group(0))\n",
    "\n",
    "    return None\n",
    "\n",
    "info['Price']=info['Price'].apply(find_float)\n",
    "info['Price'].head()"
   ]
  },
  {
   "cell_type": "code",
   "execution_count": 12,
   "metadata": {},
   "outputs": [
    {
     "output_type": "execute_result",
     "data": {
      "text/plain": [
       "ASIN\n",
       "B0192Y9XSE    13.99\n",
       "B017Q8ZVWK     9.99\n",
       "B014RWWURC    12.00\n",
       "B07YDNSGY2    17.99\n",
       "B00Z08TZNU     8.99\n",
       "Name: Price, dtype: float64"
      ]
     },
     "metadata": {},
     "execution_count": 12
    }
   ],
   "source": [
    "'''\n",
    "    We also need to consider the fact that some ASINs have more than one unit of products (like 2-Pack, 10-Pack)\n",
    "    We need to average the price as well\n",
    "'''\n",
    "def find_unit(a_string):\n",
    "    pattern = r\"([1-9][0-9]*)[-\\s][Pp][Aa][Cc][Kk]\"\n",
    "    if isinstance(a_string, str):\n",
    "        unit = re.search(pattern, a_string)\n",
    "        if unit: return int(unit.group(1))\n",
    "    \n",
    "    return 1\n",
    "\n",
    "info['unit'] = info['Description'].apply(find_unit)\n",
    "\n",
    "info['unit'].unique()\n",
    "\n",
    "info['Price']= info['Price']/info['unit']\n",
    "info['Price'].head()"
   ]
  },
  {
   "cell_type": "code",
   "execution_count": 13,
   "metadata": {
    "tags": []
   },
   "outputs": [
    {
     "output_type": "stream",
     "name": "stdout",
     "text": [
      "<class 'pandas.core.frame.DataFrame'>\nIndex: 1185 entries, B0192Y9XSE to B084WNX1C2\nData columns (total 7 columns):\nLink                    1185 non-null object\nTitle                   1182 non-null object\nDescription             1182 non-null object\nPrice                   1185 non-null float64\nVerified Subcategory    1185 non-null object\n2019                    885 non-null float64\nunit                    1185 non-null int64\ndtypes: float64(2), int64(1), object(4)\nmemory usage: 74.1+ KB\n"
     ]
    }
   ],
   "source": [
    "'''\n",
    "    Now we can transform the price into unit price\n",
    "'''\n",
    "info['Price'] = info.groupby('Verified Subcategory')['Price'].transform(\n",
    "    lambda group: group.fillna(np.mean(group))\n",
    ")\n",
    "\n",
    "info.info()"
   ]
  },
  {
   "cell_type": "code",
   "execution_count": 14,
   "metadata": {
    "tags": []
   },
   "outputs": [
    {
     "output_type": "stream",
     "name": "stdout",
     "text": [
      "<class 'pandas.core.frame.DataFrame'>\nIndex: 1185 entries, B0192Y9XSE to B084WNX1C2\nData columns (total 3 columns):\nDescription             1182 non-null object\nPrice                   1185 non-null float64\nVerified Subcategory    1185 non-null object\ndtypes: float64(1), object(2)\nmemory usage: 37.0+ KB\n"
     ]
    }
   ],
   "source": [
    "'''\n",
    "    After Data cleaning, we will do some exploratory data analysis\n",
    "    We will create a new DataFrame that has only Description, Price, and Verified Subcategory \n",
    "'''\n",
    "\n",
    "data = info[['Description', 'Price', 'Verified Subcategory']]\n",
    "data.info()"
   ]
  },
  {
   "cell_type": "code",
   "execution_count": 15,
   "metadata": {},
   "outputs": [
    {
     "output_type": "display_data",
     "data": {
      "text/plain": "<Figure size 640x480 with 1 Axes>"
     },
     "metadata": {}
    }
   ],
   "source": [
    "'''\n",
    "    We want to know if price is significantly different between different categories\n",
    "'''\n",
    "import matplotlib.pyplot as plt\n",
    "data.groupby('Verified Subcategory').mean().plot(kind='bar', title='Mean by Group')\n",
    "plt.show()"
   ]
  },
  {
   "cell_type": "code",
   "execution_count": 16,
   "metadata": {},
   "outputs": [
    {
     "output_type": "display_data",
     "data": {
      "text/plain": "<Figure size 432x288 with 1 Axes>",
      "image/png": "[encoded data removed]"
     },
     "metadata": {
      "needs_background": "light"
     }
    }
   ],
   "source": [
    "data.groupby('Verified Subcategory').std().plot(kind='bar', title='Standard Deviation by Group')\n",
    "plt.show()"
   ]
  },
  {
   "cell_type": "code",
   "execution_count": 17,
   "metadata": {},
   "outputs": [
    {
     "output_type": "display_data",
     "data": {
      "text/plain": "<Figure size 432x288 with 1 Axes>",
      "image/png": "[encoded data removed]"
     },
     "metadata": {
      "needs_background": "light"
     }
    }
   ],
   "source": [
    "'''\n",
    "    We also want to take a look at the counts for each column\n",
    "'''\n",
    "data.groupby('Verified Subcategory').count().plot(kind='bar', title='Count by Group')\n",
    "plt.show()"
   ]
  },
  {
   "cell_type": "code",
   "execution_count": 18,
   "metadata": {},
   "outputs": [
    {
     "output_type": "execute_result",
     "data": {
      "text/plain": [
       "'\\n    DP & MDP and None have high counts as well as high variance\\n    This might affect model performance\\n'"
      ]
     },
     "metadata": {},
     "execution_count": 18
    }
   ],
   "source": [
    "'''\n",
    "    DP & MDP and None have high counts as well as high variance\n",
    "    This might affect model performance\n",
    "'''"
   ]
  },
  {
   "cell_type": "code",
   "execution_count": 19,
   "metadata": {},
   "outputs": [],
   "source": [
    "'''\n",
    "    Since the price is quite different for most of the categories, \n",
    "    we decided to consider price as a feature when we build our model.\n",
    "    Now we save the new DataFrame into an excel file\n",
    "'''\n",
    "\n",
    "data.to_excel(\"../data/Numeric Cleaned Data.xlsx\")"
   ]
  },
  {
   "cell_type": "code",
   "execution_count": null,
   "metadata": {},
   "outputs": [],
   "source": []
  }
 ],
 "metadata": {
  "kernelspec": {
   "display_name": "Python 3.7.4 64-bit ('anaconda3': virtualenv)",
   "language": "python",
   "name": "python37464bitanaconda3virtualenv6a18c55a51c948acbf356541ef072a99"
  },
  "language_info": {
   "codemirror_mode": {
    "name": "ipython",
    "version": 3
   },
   "file_extension": ".py",
   "mimetype": "text/x-python",
   "name": "python",
   "nbconvert_exporter": "python",
   "pygments_lexer": "ipython3",
   "version": "3.7.4-final"
  }
 },
 "nbformat": 4,
 "nbformat_minor": 4
}