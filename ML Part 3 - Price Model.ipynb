{
 "cells": [
  {
   "cell_type": "code",
   "execution_count": 31,
   "metadata": {},
   "outputs": [],
   "source": [
    "import pandas as pd\n",
    "import numpy as np\n",
    "import warnings\n",
    "from sklearn.exceptions import ConvergenceWarning, FitFailedWarning\n",
    "warnings.filterwarnings(action='ignore', category=ConvergenceWarning)\n",
    "warnings.filterwarnings(action='ignore', category=FitFailedWarning)"
   ]
  },
  {
   "cell_type": "code",
   "execution_count": 2,
   "metadata": {},
   "outputs": [
    {
     "data": {
      "text/html": [
       "<div>\n",
       "<style scoped>\n",
       "    .dataframe tbody tr th:only-of-type {\n",
       "        vertical-align: middle;\n",
       "    }\n",
       "\n",
       "    .dataframe tbody tr th {\n",
       "        vertical-align: top;\n",
       "    }\n",
       "\n",
       "    .dataframe thead th {\n",
       "        text-align: right;\n",
       "    }\n",
       "</style>\n",
       "<table border=\"1\" class=\"dataframe\">\n",
       "  <thead>\n",
       "    <tr style=\"text-align: right;\">\n",
       "      <th></th>\n",
       "      <th>Unnamed: 0</th>\n",
       "      <th>ASIN</th>\n",
       "      <th>Description</th>\n",
       "      <th>Price</th>\n",
       "      <th>Verified Subcategory</th>\n",
       "      <th>Description_New</th>\n",
       "      <th>Description_Count</th>\n",
       "      <th>Description_Ngram</th>\n",
       "    </tr>\n",
       "  </thead>\n",
       "  <tbody>\n",
       "    <tr>\n",
       "      <td>0</td>\n",
       "      <td>0</td>\n",
       "      <td>B0192Y9XSE</td>\n",
       "      <td>Connects a DisplayPort DP equipped laptop or d...</td>\n",
       "      <td>13.99</td>\n",
       "      <td>DP and MDP Display Adapters</td>\n",
       "      <td>connect a displayport dp equipped laptop or de...</td>\n",
       "      <td>(0, 1283)\\t4\\n  (0, 1519)\\t2\\n  (0, 1564)\\t1...</td>\n",
       "      <td>(0, 4254)\\t0.07386659530351065\\n  (0, 941)\\t...</td>\n",
       "    </tr>\n",
       "    <tr>\n",
       "      <td>1</td>\n",
       "      <td>1</td>\n",
       "      <td>B017Q8ZVWK</td>\n",
       "      <td>COMPACT DESIGN - The compact-designed portable...</td>\n",
       "      <td>9.99</td>\n",
       "      <td>DP and MDP Display Adapters</td>\n",
       "      <td>compact design-the compact-design portable ben...</td>\n",
       "      <td>(0, 1283)\\t4\\n  (0, 1519)\\t2\\n  (0, 1564)\\t1...</td>\n",
       "      <td>(0, 4254)\\t0.07386659530351065\\n  (0, 941)\\t...</td>\n",
       "    </tr>\n",
       "    <tr>\n",
       "      <td>2</td>\n",
       "      <td>2</td>\n",
       "      <td>B014RWWURC</td>\n",
       "      <td>DisplayPort to DVI cable transmits HD video fr...</td>\n",
       "      <td>12.00</td>\n",
       "      <td>DP and MDP Display Adapters</td>\n",
       "      <td>displayport to dvi cable transmit hd video fro...</td>\n",
       "      <td>(0, 1283)\\t4\\n  (0, 1519)\\t2\\n  (0, 1564)\\t1...</td>\n",
       "      <td>(0, 4254)\\t0.07386659530351065\\n  (0, 941)\\t...</td>\n",
       "    </tr>\n",
       "    <tr>\n",
       "      <td>3</td>\n",
       "      <td>3</td>\n",
       "      <td>B07YDNSGY2</td>\n",
       "      <td>USB C to Displayport Ultra High Definition:Res...</td>\n",
       "      <td>17.99</td>\n",
       "      <td>USB-C Display Adapters</td>\n",
       "      <td>usb c to displayport ultra high definition res...</td>\n",
       "      <td>(0, 1283)\\t4\\n  (0, 1519)\\t2\\n  (0, 1564)\\t1...</td>\n",
       "      <td>(0, 4254)\\t0.07386659530351065\\n  (0, 941)\\t...</td>\n",
       "    </tr>\n",
       "    <tr>\n",
       "      <td>4</td>\n",
       "      <td>4</td>\n",
       "      <td>B00Z08TZNU</td>\n",
       "      <td>Connect a DisplayPort (DP, DP++, DisplayPort++...</td>\n",
       "      <td>8.99</td>\n",
       "      <td>DP and MDP Display Adapters</td>\n",
       "      <td>connect a displayport dp dp++ displayport++ eq...</td>\n",
       "      <td>(0, 1283)\\t4\\n  (0, 1519)\\t2\\n  (0, 1564)\\t1...</td>\n",
       "      <td>(0, 4254)\\t0.07386659530351065\\n  (0, 941)\\t...</td>\n",
       "    </tr>\n",
       "  </tbody>\n",
       "</table>\n",
       "</div>"
      ],
      "text/plain": [
       "   Unnamed: 0        ASIN                                        Description  \\\n",
       "0           0  B0192Y9XSE  Connects a DisplayPort DP equipped laptop or d...   \n",
       "1           1  B017Q8ZVWK  COMPACT DESIGN - The compact-designed portable...   \n",
       "2           2  B014RWWURC  DisplayPort to DVI cable transmits HD video fr...   \n",
       "3           3  B07YDNSGY2  USB C to Displayport Ultra High Definition:Res...   \n",
       "4           4  B00Z08TZNU  Connect a DisplayPort (DP, DP++, DisplayPort++...   \n",
       "\n",
       "   Price         Verified Subcategory  \\\n",
       "0  13.99  DP and MDP Display Adapters   \n",
       "1   9.99  DP and MDP Display Adapters   \n",
       "2  12.00  DP and MDP Display Adapters   \n",
       "3  17.99       USB-C Display Adapters   \n",
       "4   8.99  DP and MDP Display Adapters   \n",
       "\n",
       "                                     Description_New  \\\n",
       "0  connect a displayport dp equipped laptop or de...   \n",
       "1  compact design-the compact-design portable ben...   \n",
       "2  displayport to dvi cable transmit hd video fro...   \n",
       "3  usb c to displayport ultra high definition res...   \n",
       "4  connect a displayport dp dp++ displayport++ eq...   \n",
       "\n",
       "                                   Description_Count  \\\n",
       "0    (0, 1283)\\t4\\n  (0, 1519)\\t2\\n  (0, 1564)\\t1...   \n",
       "1    (0, 1283)\\t4\\n  (0, 1519)\\t2\\n  (0, 1564)\\t1...   \n",
       "2    (0, 1283)\\t4\\n  (0, 1519)\\t2\\n  (0, 1564)\\t1...   \n",
       "3    (0, 1283)\\t4\\n  (0, 1519)\\t2\\n  (0, 1564)\\t1...   \n",
       "4    (0, 1283)\\t4\\n  (0, 1519)\\t2\\n  (0, 1564)\\t1...   \n",
       "\n",
       "                                   Description_Ngram  \n",
       "0    (0, 4254)\\t0.07386659530351065\\n  (0, 941)\\t...  \n",
       "1    (0, 4254)\\t0.07386659530351065\\n  (0, 941)\\t...  \n",
       "2    (0, 4254)\\t0.07386659530351065\\n  (0, 941)\\t...  \n",
       "3    (0, 4254)\\t0.07386659530351065\\n  (0, 941)\\t...  \n",
       "4    (0, 4254)\\t0.07386659530351065\\n  (0, 941)\\t...  "
      ]
     },
     "execution_count": 2,
     "metadata": {},
     "output_type": "execute_result"
    }
   ],
   "source": [
    "info = pd.read_excel(\"Final Cleaned Data.xlsx\")\n",
    "info.head()"
   ]
  },
  {
   "cell_type": "code",
   "execution_count": 33,
   "metadata": {},
   "outputs": [
    {
     "name": "stdout",
     "output_type": "stream",
     "text": [
      "KNN score 0.46063951004130466\n",
      "KNN best parameters {'p': 2, 'n_neighbors': 200, 'algorithm': 'auto'}\n",
      "LR score 0.4100056971941319\n",
      "LR best parameters {'solver': 'saga', 'multi_class': 'auto', 'max_iter': 200, 'fit_intercept': True, 'C': 2000}\n"
     ]
    }
   ],
   "source": [
    "from sklearn.neighbors import KNeighborsClassifier\n",
    "from sklearn.linear_model import LogisticRegression\n",
    "from sklearn.svm import SVC\n",
    "from sklearn.model_selection import RandomizedSearchCV, cross_val_score, train_test_split\n",
    "X = info[\"Price\"].values.reshape(-1,1)\n",
    "y = info['Verified Subcategory']\n",
    "\n",
    "knn_param = {\n",
    "    'n_neighbors': [5,15,25,35,50, 75, 100, 120, 140, 160, 180, 200],\n",
    "    'algorithm' : ['auto', 'ball_tree', 'kd_tree', 'brute'],\n",
    "    'p': [1,2]\n",
    "}\n",
    "knn = KNeighborsClassifier(n_jobs=-1)\n",
    "\n",
    "lr_param = {\n",
    "    'C': [0, 10, 100, 1000, 1300, 1500, 1700, 2000],\n",
    "    'max_iter': [100, 200, 300, 400, 600, None],\n",
    "    'fit_intercept' : [True, False],\n",
    "    'multi_class' : ['auto', 'ovr', 'multinomial'],\n",
    "    'solver' : ['newton-cg', 'lbfgs', 'liblinear', 'sag', 'saga']\n",
    "}\n",
    "\n",
    "lr = LogisticRegression()\n",
    "\n",
    "rd_knn = RandomizedSearchCV(estimator=knn, param_distributions=knn_param, cv=10, n_iter=20, n_jobs=-1)\n",
    "rd_lr = RandomizedSearchCV(estimator=lr, param_distributions=lr_param, cv=10, n_iter=20, n_jobs=-1)\n",
    "\n",
    "rd_knn.fit(X, y)\n",
    "rd_lr.fit(X, y)\n",
    "\n",
    "print(\"KNN score\", rd_knn.best_score_)\n",
    "print(\"KNN best parameters\", rd_knn.best_params_)\n",
    "print(\"LR score\", rd_lr.best_score_)\n",
    "print(\"LR best parameters\", rd_lr.best_params_)"
   ]
  },
  {
   "cell_type": "code",
   "execution_count": 18,
   "metadata": {},
   "outputs": [
    {
     "name": "stdout",
     "output_type": "stream",
     "text": [
      "Voting score: 0.4506329113924051\n"
     ]
    }
   ],
   "source": [
    "from sklearn.ensemble import VotingClassifier\n",
    "\n",
    "vote = VotingClassifier(\n",
    "    estimators = [\n",
    "        ('knn', rd_knn.best_estimator_),\n",
    "        ('lr', rd_lr.best_estimator_)\n",
    "    ],\n",
    "    voting='soft'\n",
    ")\n",
    "\n",
    "score_vt = cross_val_score(vote, X, y, n_jobs=-1, verbose=0, cv=5)\n",
    "print(\"Voting score:\", score_vt.mean())"
   ]
  },
  {
   "cell_type": "code",
   "execution_count": 34,
   "metadata": {},
   "outputs": [
    {
     "data": {
      "text/plain": [
       "['Price_Knn.pkl']"
      ]
     },
     "execution_count": 34,
     "metadata": {},
     "output_type": "execute_result"
    }
   ],
   "source": [
    "'''\n",
    "    This score actually make sense since we only have one feature.\n",
    "    We will save this model for later use.\n",
    "'''\n",
    "\n",
    "import joblib\n",
    "\n",
    "joblib.dump(rd_knn, \"Price_Knn.pkl\")"
   ]
  },
  {
   "cell_type": "code",
   "execution_count": null,
   "metadata": {},
   "outputs": [],
   "source": []
  }
 ],
 "metadata": {
  "file_extension": ".py",
  "kernelspec": {
   "display_name": "Python 3",
   "language": "python",
   "name": "python3"
  },
  "language_info": {
   "codemirror_mode": {
    "name": "ipython",
    "version": 3
   },
   "file_extension": ".py",
   "mimetype": "text/x-python",
   "name": "python",
   "nbconvert_exporter": "python",
   "pygments_lexer": "ipython3",
   "version": "3.7.4"
  },
  "mimetype": "text/x-python",
  "name": "python",
  "npconvert_exporter": "python",
  "pygments_lexer": "ipython3",
  "version": 3
 },
 "nbformat": 4,
 "nbformat_minor": 4
}
