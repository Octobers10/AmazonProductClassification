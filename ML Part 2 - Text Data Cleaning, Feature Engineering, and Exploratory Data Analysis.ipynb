{
 "cells": [
  {
   "cell_type": "markdown",
   "metadata": {},
   "source": [
    "# ML Part 2: Text Data Cleaning, Feature Engineering, and Exploratory Data Analysis"
   ]
  },
  {
   "cell_type": "code",
   "execution_count": 1,
   "metadata": {},
   "outputs": [],
   "source": [
    "import pandas as pd\n",
    "import numpy as np"
   ]
  },
  {
   "cell_type": "code",
   "execution_count": 2,
   "metadata": {},
   "outputs": [
    {
     "name": "stdout",
     "output_type": "stream",
     "text": [
      "<class 'pandas.core.frame.DataFrame'>\n",
      "RangeIndex: 1185 entries, 0 to 1184\n",
      "Data columns (total 4 columns):\n",
      "ASIN                    1185 non-null object\n",
      "Description             1185 non-null object\n",
      "Price                   1185 non-null float64\n",
      "Verified Subcategory    1185 non-null object\n",
      "dtypes: float64(1), object(3)\n",
      "memory usage: 37.2+ KB\n"
     ]
    },
    {
     "data": {
      "text/plain": [
       "1180    【Fast Charging & USB 3.0 Speed】Charge up your ...\n",
       "1181    📍Updated Charging & 10 Gbps Data Transmission ...\n",
       "1182    📱 [USB-C (Male) to Micro USB (Female)]: The US...\n",
       "1183    【USB On-The-Go】: Plug in and use computer peri...\n",
       "1184    Conver USB A Devices --- Use the adapter to co...\n",
       "Name: Description, dtype: object"
      ]
     },
     "execution_count": 2,
     "metadata": {},
     "output_type": "execute_result"
    }
   ],
   "source": [
    "info = pd.read_excel(\"Numeric Cleaned Data.xlsx\")\n",
    "info.info()\n",
    "info.Description.head()\n",
    "info.Description.tail()"
   ]
  },
  {
   "cell_type": "code",
   "execution_count": 3,
   "metadata": {},
   "outputs": [
    {
     "data": {
      "text/plain": [
       "'\\n\\ndef all_alpha(tokens):\\n    return [token for token in tokens if token.isalpha()]\\n\\ndef cleaning(paragraph):\\n    lem = lemmatizing(paragraph)\\n    ns = no_stop(lem)\\n    al = all_alpha(ns)\\n    return \" \".join(al)\\n'"
      ]
     },
     "execution_count": 3,
     "metadata": {},
     "output_type": "execute_result"
    }
   ],
   "source": [
    "'''\n",
    "    We want to return words to their root form, take out stop words and special chars\n",
    "'''\n",
    "import spacy\n",
    "import string \n",
    "nlp=spacy.load(\"en_core_web_sm\")\n",
    "spacy_stopwords = spacy.lang.en.stop_words.STOP_WORDS\n",
    "\n",
    "'''\n",
    "\n",
    "def all_alpha(tokens):\n",
    "    return [token for token in tokens if token.isalpha()]\n",
    "\n",
    "def cleaning(paragraph):\n",
    "    lem = lemmatizing(paragraph)\n",
    "    ns = no_stop(lem)\n",
    "    al = all_alpha(ns)\n",
    "    return \" \".join(al)\n",
    "'''"
   ]
  },
  {
   "cell_type": "code",
   "execution_count": 4,
   "metadata": {},
   "outputs": [
    {
     "data": {
      "text/plain": [
       "1180    (【, Fast, Charging, &, USB, 3.0, Speed】Charge,...\n",
       "1181    (📍, Updated, Charging, &, 10, Gbps, Data, Tran...\n",
       "1182    (📱, [, USB, -, C, (, Male, ), to, Micro, USB, ...\n",
       "1183    (【, USB, On, -, The, -, Go, 】, :, Plug, in, an...\n",
       "1184    (Conver, USB, A, Devices, ---, Use, the, adapt...\n",
       "Name: Description, dtype: object"
      ]
     },
     "execution_count": 4,
     "metadata": {},
     "output_type": "execute_result"
    }
   ],
   "source": [
    "'''\n",
    "    First, tokenize the description\n",
    "'''\n",
    "info['Description']=info['Description'].apply(nlp)\n",
    "info['Description'].head()\n",
    "info['Description'].tail()"
   ]
  },
  {
   "cell_type": "code",
   "execution_count": 5,
   "metadata": {},
   "outputs": [
    {
     "name": "stdout",
     "output_type": "stream",
     "text": [
      "!\"#$%&'()*+,./:;<=>?@[\\]^_`{|}~\n"
     ]
    },
    {
     "data": {
      "text/plain": [
       "1180    [【, Fast, Charging, USB, 3.0, Speed】Charge, up...\n",
       "1181    [📍, Updated, Charging, 10, Gbps, Data, Transmi...\n",
       "1182    [📱, USB, -, C, Male, to, Micro, USB, Female, T...\n",
       "1183    [【, USB, On, -, The, -, Go, 】, Plug, in, and, ...\n",
       "1184    [Conver, USB, A, Devices, ---, Use, the, adapt...\n",
       "Name: Description_New, dtype: object"
      ]
     },
     "execution_count": 5,
     "metadata": {},
     "output_type": "execute_result"
    }
   ],
   "source": [
    "'''\n",
    "    Then we will try to remove punctuation\n",
    "'''\n",
    "new_puncts = string.punctuation.replace('-', '')\n",
    "print(new_puncts)\n",
    "\n",
    "def no_punct(tokens):\n",
    "    #print(str(tokens[0]))\n",
    "    return [token for token in tokens if (str(token) not in new_puncts)]\n",
    "\n",
    "info['Description_New']  = info['Description'].apply(no_punct)\n",
    "info['Description_New'].head()\n",
    "info['Description_New'].tail()\n"
   ]
  },
  {
   "cell_type": "code",
   "execution_count": 6,
   "metadata": {},
   "outputs": [
    {
     "data": {
      "text/plain": [
       "1180    (fast, charging, usb, 3.0, up, your, phone, ip...\n",
       "1181    (updated, charging, 10, gbps, data, transmissi...\n",
       "1182    (usb, -, c, male, to, micro, usb, female, the,...\n",
       "1183    (usb, on, -, the, -, go, plug, in, and, use, c...\n",
       "1184    (conver, usb, a, devices, ---, use, the, adapt...\n",
       "Name: Description_New, dtype: object"
      ]
     },
     "execution_count": 6,
     "metadata": {},
     "output_type": "execute_result"
    }
   ],
   "source": [
    "def lower_case(tokens):\n",
    "    return nlp(\" \".join([token.lower_ for token in tokens if token.is_ascii]))\n",
    "\n",
    "info['Description_New'] = info['Description_New'].apply(lower_case)\n",
    "\n",
    "info['Description_New'].head()\n",
    "info['Description_New'].tail()"
   ]
  },
  {
   "cell_type": "code",
   "execution_count": 7,
   "metadata": {},
   "outputs": [
    {
     "data": {
      "text/plain": [
       "1180    [fast, charge, usb, 3.0, up, -PRON-, phone, ip...\n",
       "1181    [update, charge, 10, gbps, datum, transmission...\n",
       "1182    [usb, -, c, male, to, micro, usb, female, the,...\n",
       "1183    [usb, on, -, the, -, go, plug, in, and, use, c...\n",
       "1184    [conver, usb, a, device, ---, use, the, adapte...\n",
       "Name: Description_New, dtype: object"
      ]
     },
     "execution_count": 7,
     "metadata": {},
     "output_type": "execute_result"
    }
   ],
   "source": [
    "def lemmatizing(tokens):\n",
    "    lemmatized = [token.lemma_ for token in tokens]\n",
    "    return lemmatized\n",
    "\n",
    "info['Description_New'] = info['Description_New'].apply(lemmatizing)\n",
    "\n",
    "info['Description_New'].head()\n",
    "info['Description_New'].tail()\n"
   ]
  },
  {
   "cell_type": "code",
   "execution_count": 8,
   "metadata": {},
   "outputs": [
    {
     "data": {
      "text/plain": [
       "1180    fast charge usb 3.0 up phone ipad or any other...\n",
       "1181    update charge 10 gbps datum transmission speed...\n",
       "1182    usb-c male to micro usb female the usb c to us...\n",
       "1183    usb on-the-go plug in and use computer periphe...\n",
       "1184    conver usb a device --- use the adapter to con...\n",
       "Name: Description_New, dtype: object"
      ]
     },
     "execution_count": 8,
     "metadata": {},
     "output_type": "execute_result"
    }
   ],
   "source": [
    "def join_words(tokens):\n",
    "    return \" \".join(tokens).replace(\" - \", \"-\").replace(' -PRON-',\"\")\n",
    "\n",
    "info['Description_New'] = info['Description_New'].apply(join_words)\n",
    "\n",
    "info['Description_New'].head()\n",
    "info['Description_New'].tail()"
   ]
  },
  {
   "cell_type": "code",
   "execution_count": 14,
   "metadata": {},
   "outputs": [],
   "source": [
    "info.to_excel(\"Final Cleaned Data.xlsx\", index=False)"
   ]
  },
  {
   "cell_type": "code",
   "execution_count": null,
   "metadata": {},
   "outputs": [],
   "source": []
  }
 ],
 "metadata": {
  "kernelspec": {
   "display_name": "Python 3.7.4 64-bit ('anaconda3': virtualenv)",
   "language": "python",
   "name": "python37464bitanaconda3virtualenv6a18c55a51c948acbf356541ef072a99"
  },
  "language_info": {
   "codemirror_mode": {
    "name": "ipython",
    "version": 3
   },
   "file_extension": ".py",
   "mimetype": "text/x-python",
   "name": "python",
   "nbconvert_exporter": "python",
   "pygments_lexer": "ipython3",
   "version": "3.7.4"
  }
 },
 "nbformat": 4,
 "nbformat_minor": 4
}
